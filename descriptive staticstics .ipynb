{
 "cells": [
  {
   "cell_type": "markdown",
   "id": "40be1427",
   "metadata": {},
   "source": [
    "# Discriptive Statistics\n",
    "    1. Mean  2. Median\n",
    "    3. Mode  4. Percentiles\n",
    "    5. Variance"
   ]
  },
  {
   "cell_type": "code",
   "execution_count": 1,
   "id": "19bb8821",
   "metadata": {},
   "outputs": [],
   "source": [
    "%matplotlib inline\n",
    "import pandas as pd\n",
    "import numpy as np\n",
    "import seaborn as sns\n",
    "import matplotlib.pylab as plt"
   ]
  },
  {
   "cell_type": "code",
   "execution_count": 153,
   "id": "cf442345",
   "metadata": {},
   "outputs": [],
   "source": [
    "STATE_CSV = r'C:\\Users\\USER\\ML\\STATICS\\data\\state.csv'\n",
    "df=pd.read_csv(STATE_CSV)\n",
    "df['Population'] =np.round(df['Population']/1000000, 1)\n",
    "df = df.rename(columns={'Population': 'Population(Million)'})"
   ]
  },
  {
   "cell_type": "code",
   "execution_count": 154,
   "id": "f252f61b",
   "metadata": {
    "scrolled": false
   },
   "outputs": [
    {
     "data": {
      "text/html": [
       "<div>\n",
       "<style scoped>\n",
       "    .dataframe tbody tr th:only-of-type {\n",
       "        vertical-align: middle;\n",
       "    }\n",
       "\n",
       "    .dataframe tbody tr th {\n",
       "        vertical-align: top;\n",
       "    }\n",
       "\n",
       "    .dataframe thead th {\n",
       "        text-align: right;\n",
       "    }\n",
       "</style>\n",
       "<table border=\"1\" class=\"dataframe\">\n",
       "  <thead>\n",
       "    <tr style=\"text-align: right;\">\n",
       "      <th></th>\n",
       "      <th>State</th>\n",
       "      <th>Population(Million)</th>\n",
       "      <th>Murder.Rate</th>\n",
       "      <th>Abbreviation</th>\n",
       "    </tr>\n",
       "  </thead>\n",
       "  <tbody>\n",
       "    <tr>\n",
       "      <th>0</th>\n",
       "      <td>Alabama</td>\n",
       "      <td>4.8</td>\n",
       "      <td>5.7</td>\n",
       "      <td>AL</td>\n",
       "    </tr>\n",
       "    <tr>\n",
       "      <th>1</th>\n",
       "      <td>Alaska</td>\n",
       "      <td>0.7</td>\n",
       "      <td>5.6</td>\n",
       "      <td>AK</td>\n",
       "    </tr>\n",
       "    <tr>\n",
       "      <th>2</th>\n",
       "      <td>Arizona</td>\n",
       "      <td>6.4</td>\n",
       "      <td>4.7</td>\n",
       "      <td>AZ</td>\n",
       "    </tr>\n",
       "    <tr>\n",
       "      <th>3</th>\n",
       "      <td>Arkansas</td>\n",
       "      <td>2.9</td>\n",
       "      <td>5.6</td>\n",
       "      <td>AR</td>\n",
       "    </tr>\n",
       "    <tr>\n",
       "      <th>4</th>\n",
       "      <td>California</td>\n",
       "      <td>37.3</td>\n",
       "      <td>4.4</td>\n",
       "      <td>CA</td>\n",
       "    </tr>\n",
       "    <tr>\n",
       "      <th>5</th>\n",
       "      <td>Colorado</td>\n",
       "      <td>5.0</td>\n",
       "      <td>2.8</td>\n",
       "      <td>CO</td>\n",
       "    </tr>\n",
       "    <tr>\n",
       "      <th>6</th>\n",
       "      <td>Connecticut</td>\n",
       "      <td>3.6</td>\n",
       "      <td>2.4</td>\n",
       "      <td>CT</td>\n",
       "    </tr>\n",
       "    <tr>\n",
       "      <th>7</th>\n",
       "      <td>Delaware</td>\n",
       "      <td>0.9</td>\n",
       "      <td>5.8</td>\n",
       "      <td>DE</td>\n",
       "    </tr>\n",
       "    <tr>\n",
       "      <th>8</th>\n",
       "      <td>Florida</td>\n",
       "      <td>18.8</td>\n",
       "      <td>5.8</td>\n",
       "      <td>FL</td>\n",
       "    </tr>\n",
       "    <tr>\n",
       "      <th>9</th>\n",
       "      <td>Georgia</td>\n",
       "      <td>9.7</td>\n",
       "      <td>5.7</td>\n",
       "      <td>GA</td>\n",
       "    </tr>\n",
       "  </tbody>\n",
       "</table>\n",
       "</div>"
      ],
      "text/plain": [
       "         State  Population(Million)  Murder.Rate Abbreviation\n",
       "0      Alabama                  4.8          5.7           AL\n",
       "1       Alaska                  0.7          5.6           AK\n",
       "2      Arizona                  6.4          4.7           AZ\n",
       "3     Arkansas                  2.9          5.6           AR\n",
       "4   California                 37.3          4.4           CA\n",
       "5     Colorado                  5.0          2.8           CO\n",
       "6  Connecticut                  3.6          2.4           CT\n",
       "7     Delaware                  0.9          5.8           DE\n",
       "8      Florida                 18.8          5.8           FL\n",
       "9      Georgia                  9.7          5.7           GA"
      ]
     },
     "execution_count": 154,
     "metadata": {},
     "output_type": "execute_result"
    }
   ],
   "source": [
    "df.head(10)"
   ]
  },
  {
   "cell_type": "code",
   "execution_count": 155,
   "id": "98b4d7d7",
   "metadata": {},
   "outputs": [
    {
     "data": {
      "text/plain": [
       "(50, 4)"
      ]
     },
     "execution_count": 155,
     "metadata": {},
     "output_type": "execute_result"
    }
   ],
   "source": [
    "df.shape"
   ]
  },
  {
   "cell_type": "markdown",
   "id": "310730f5",
   "metadata": {},
   "source": [
    "## Population Mean"
   ]
  },
  {
   "cell_type": "code",
   "execution_count": 25,
   "id": "deb4b48a",
   "metadata": {
    "scrolled": true
   },
   "outputs": [
    {
     "data": {
      "text/plain": [
       "array([ 4.8,  0.7,  6.4,  2.9, 37.3,  5. ,  3.6,  0.9, 18.8,  9.7,  1.4,\n",
       "        1.6, 12.8,  6.5,  3. ,  2.9,  4.3,  4.5,  1.3,  5.8,  6.5,  9.9,\n",
       "        5.3,  3. ,  6. ,  1. ,  1.8,  2.7,  1.3,  8.8,  2.1, 19.4,  9.5,\n",
       "        0.7, 11.5,  3.8,  3.8, 12.7,  1.1,  4.6,  0.8,  6.3, 25.1,  2.8,\n",
       "        0.6,  8. ,  6.7,  1.9,  5.7,  0.6])"
      ]
     },
     "execution_count": 25,
     "metadata": {},
     "output_type": "execute_result"
    }
   ],
   "source": [
    "df['Population(Million)'].values"
   ]
  },
  {
   "cell_type": "code",
   "execution_count": 42,
   "id": "802b0c45",
   "metadata": {},
   "outputs": [
    {
     "name": "stdout",
     "output_type": "stream",
     "text": [
      "total_population = 308.2 million\n",
      "total_count_of_states = 50\n",
      "mean_population = total_population/total_count_of_states\n",
      "mean_population = 6.164 million\n"
     ]
    }
   ],
   "source": [
    "total_population = np.sum(df['Population(Million)'].values)\n",
    "print(f'total_population = {total_population} million')\n",
    "total_count_of_states = len(df['Population(Million)'].values)\n",
    "print(f'total_count_of_states = {total_count_of_states}')\n",
    "print(\"mean_population = total_population/total_count_of_states\")\n",
    "mean_population = total_population/total_count_of_states\n",
    "print(f'mean_population = {mean_population} million')"
   ]
  },
  {
   "cell_type": "markdown",
   "id": "71e7c276",
   "metadata": {},
   "source": [
    "# Histogram plot"
   ]
  },
  {
   "cell_type": "code",
   "execution_count": 46,
   "id": "f281111e",
   "metadata": {
    "scrolled": true
   },
   "outputs": [
    {
     "data": {
      "text/plain": [
       "<AxesSubplot:xlabel='Population(Million)', ylabel='Count'>"
      ]
     },
     "execution_count": 46,
     "metadata": {},
     "output_type": "execute_result"
    },
    {
     "data": {
      "image/png": "[encoded data removed]",
      "text/plain": [
       "<Figure size 432x288 with 1 Axes>"
      ]
     },
     "metadata": {
      "needs_background": "light"
     },
     "output_type": "display_data"
    }
   ],
   "source": [
    "sns.histplot(df['Population(Million)'])"
   ]
  },
  {
   "cell_type": "code",
   "execution_count": 49,
   "id": "ab965c11",
   "metadata": {},
   "outputs": [
    {
     "data": {
      "text/html": [
       "<div>\n",
       "<style scoped>\n",
       "    .dataframe tbody tr th:only-of-type {\n",
       "        vertical-align: middle;\n",
       "    }\n",
       "\n",
       "    .dataframe tbody tr th {\n",
       "        vertical-align: top;\n",
       "    }\n",
       "\n",
       "    .dataframe thead th {\n",
       "        text-align: right;\n",
       "    }\n",
       "</style>\n",
       "<table border=\"1\" class=\"dataframe\">\n",
       "  <thead>\n",
       "    <tr style=\"text-align: right;\">\n",
       "      <th></th>\n",
       "      <th>State</th>\n",
       "      <th>Population(Million)</th>\n",
       "    </tr>\n",
       "  </thead>\n",
       "  <tbody>\n",
       "    <tr>\n",
       "      <th>4</th>\n",
       "      <td>California</td>\n",
       "      <td>37.3</td>\n",
       "    </tr>\n",
       "    <tr>\n",
       "      <th>8</th>\n",
       "      <td>Florida</td>\n",
       "      <td>18.8</td>\n",
       "    </tr>\n",
       "    <tr>\n",
       "      <th>31</th>\n",
       "      <td>New York</td>\n",
       "      <td>19.4</td>\n",
       "    </tr>\n",
       "    <tr>\n",
       "      <th>42</th>\n",
       "      <td>Texas</td>\n",
       "      <td>25.1</td>\n",
       "    </tr>\n",
       "  </tbody>\n",
       "</table>\n",
       "</div>"
      ],
      "text/plain": [
       "         State  Population(Million)\n",
       "4   California                 37.3\n",
       "8      Florida                 18.8\n",
       "31    New York                 19.4\n",
       "42       Texas                 25.1"
      ]
     },
     "execution_count": 49,
     "metadata": {},
     "output_type": "execute_result"
    }
   ],
   "source": [
    "df[['State','Population(Million)']][df['Population(Million)']>15]"
   ]
  },
  {
   "cell_type": "markdown",
   "id": "0dfddde3",
   "metadata": {},
   "source": [
    "# Effect of Outliers on Population mean "
   ]
  },
  {
   "cell_type": "code",
   "execution_count": 51,
   "id": "214eea70",
   "metadata": {
    "collapsed": true
   },
   "outputs": [
    {
     "name": "stderr",
     "output_type": "stream",
     "text": [
      "C:\\Users\\USER\\AppData\\Local\\Temp\\ipykernel_4184\\3329793544.py:2: SettingWithCopyWarning: \n",
      "A value is trying to be set on a copy of a slice from a DataFrame\n",
      "\n",
      "See the caveats in the documentation: https://pandas.pydata.org/pandas-docs/stable/user_guide/indexing.html#returning-a-view-versus-a-copy\n",
      "  dff['Population(Million)'][dff['Population(Million)']>15] = [4.3 ,5.3, 6.5, 7.2]\n"
     ]
    }
   ],
   "source": [
    "dff = df.copy()\n",
    "dff['Population(Million)'][dff['Population(Million)']>15] = [4.3 ,5.3, 6.5, 7.2]"
   ]
  },
  {
   "cell_type": "code",
   "execution_count": 53,
   "id": "2b6c1527",
   "metadata": {},
   "outputs": [
    {
     "data": {
      "text/plain": [
       "Series([], Name: Population(Million), dtype: float64)"
      ]
     },
     "execution_count": 53,
     "metadata": {},
     "output_type": "execute_result"
    }
   ],
   "source": [
    "dff['Population(Million)'][dff['Population(Million)']>15]"
   ]
  },
  {
   "cell_type": "code",
   "execution_count": 57,
   "id": "b42234ef",
   "metadata": {},
   "outputs": [
    {
     "data": {
      "text/plain": [
       "array([ 4.8,  0.7,  6.4,  2.9,  4.3,  5. ,  3.6,  0.9,  5.3,  9.7,  1.4,\n",
       "        1.6, 12.8,  6.5,  3. ,  2.9,  4.3,  4.5,  1.3,  5.8,  6.5,  9.9,\n",
       "        5.3,  3. ,  6. ,  1. ,  1.8,  2.7,  1.3,  8.8,  2.1,  6.5,  9.5,\n",
       "        0.7, 11.5,  3.8,  3.8, 12.7,  1.1,  4.6,  0.8,  6.3,  7.2,  2.8,\n",
       "        0.6,  8. ,  6.7,  1.9,  5.7,  0.6])"
      ]
     },
     "execution_count": 57,
     "metadata": {},
     "output_type": "execute_result"
    }
   ],
   "source": [
    "dff['Population(Million)'].values"
   ]
  },
  {
   "cell_type": "code",
   "execution_count": 58,
   "id": "9a28b7e9",
   "metadata": {},
   "outputs": [
    {
     "name": "stdout",
     "output_type": "stream",
     "text": [
      "mean_population = 4.617999999999999 million\n"
     ]
    }
   ],
   "source": [
    "mean_population = dff['Population(Million)'].mean()\n",
    "print(f'mean_population = {mean_population} million')"
   ]
  },
  {
   "cell_type": "markdown",
   "id": "d9da8729",
   "metadata": {},
   "source": [
    "# Percentiles"
   ]
  },
  {
   "cell_type": "code",
   "execution_count": 59,
   "id": "b8fa5957",
   "metadata": {},
   "outputs": [
    {
     "data": {
      "text/html": [
       "<div>\n",
       "<style scoped>\n",
       "    .dataframe tbody tr th:only-of-type {\n",
       "        vertical-align: middle;\n",
       "    }\n",
       "\n",
       "    .dataframe tbody tr th {\n",
       "        vertical-align: top;\n",
       "    }\n",
       "\n",
       "    .dataframe thead th {\n",
       "        text-align: right;\n",
       "    }\n",
       "</style>\n",
       "<table border=\"1\" class=\"dataframe\">\n",
       "  <thead>\n",
       "    <tr style=\"text-align: right;\">\n",
       "      <th></th>\n",
       "      <th>Population(Million)</th>\n",
       "      <th>Murder.Rate</th>\n",
       "    </tr>\n",
       "  </thead>\n",
       "  <tbody>\n",
       "    <tr>\n",
       "      <th>count</th>\n",
       "      <td>50.000000</td>\n",
       "      <td>50.000000</td>\n",
       "    </tr>\n",
       "    <tr>\n",
       "      <th>mean</th>\n",
       "      <td>6.164000</td>\n",
       "      <td>4.066000</td>\n",
       "    </tr>\n",
       "    <tr>\n",
       "      <th>std</th>\n",
       "      <td>6.846771</td>\n",
       "      <td>1.915736</td>\n",
       "    </tr>\n",
       "    <tr>\n",
       "      <th>min</th>\n",
       "      <td>0.600000</td>\n",
       "      <td>0.900000</td>\n",
       "    </tr>\n",
       "    <tr>\n",
       "      <th>25%</th>\n",
       "      <td>1.825000</td>\n",
       "      <td>2.425000</td>\n",
       "    </tr>\n",
       "    <tr>\n",
       "      <th>50%</th>\n",
       "      <td>4.400000</td>\n",
       "      <td>4.000000</td>\n",
       "    </tr>\n",
       "    <tr>\n",
       "      <th>75%</th>\n",
       "      <td>6.650000</td>\n",
       "      <td>5.550000</td>\n",
       "    </tr>\n",
       "    <tr>\n",
       "      <th>max</th>\n",
       "      <td>37.300000</td>\n",
       "      <td>10.300000</td>\n",
       "    </tr>\n",
       "  </tbody>\n",
       "</table>\n",
       "</div>"
      ],
      "text/plain": [
       "       Population(Million)  Murder.Rate\n",
       "count            50.000000    50.000000\n",
       "mean              6.164000     4.066000\n",
       "std               6.846771     1.915736\n",
       "min               0.600000     0.900000\n",
       "25%               1.825000     2.425000\n",
       "50%               4.400000     4.000000\n",
       "75%               6.650000     5.550000\n",
       "max              37.300000    10.300000"
      ]
     },
     "execution_count": 59,
     "metadata": {},
     "output_type": "execute_result"
    }
   ],
   "source": [
    "df.describe()"
   ]
  },
  {
   "cell_type": "code",
   "execution_count": 61,
   "id": "e2a372e0",
   "metadata": {},
   "outputs": [
    {
     "data": {
      "text/plain": [
       "(0.6, 37.3)"
      ]
     },
     "execution_count": 61,
     "metadata": {},
     "output_type": "execute_result"
    }
   ],
   "source": [
    "\"{df['Population(Million)'].min()}, {df['Population(Million)'].max()}\""
   ]
  },
  {
   "cell_type": "code",
   "execution_count": 66,
   "id": "6c25f6bf",
   "metadata": {},
   "outputs": [
    {
     "name": "stdout",
     "output_type": "stream",
     "text": [
      "25 Percentile = 1.825 million\n",
      "50 Percentile = 4.4 million\n",
      "75 Percentile = 6.65 million\n"
     ]
    }
   ],
   "source": [
    "print(f\"25 Percentile = {np.percentile(df['Population(Million)'], 25)} million\")\n",
    "print(f\"50 Percentile = {np.percentile(df['Population(Million)'], 50)} million\")\n",
    "print(f\"75 Percentile = {np.percentile(df['Population(Million)'], 75)} million\")"
   ]
  },
  {
   "cell_type": "code",
   "execution_count": 69,
   "id": "5d0143ba",
   "metadata": {},
   "outputs": [
    {
     "data": {
      "text/plain": [
       "count    50.000000\n",
       "mean      6.164000\n",
       "std       6.846771\n",
       "min       0.600000\n",
       "25%       1.825000\n",
       "50%       4.400000\n",
       "75%       6.650000\n",
       "max      37.300000\n",
       "Name: Population(Million), dtype: float64"
      ]
     },
     "execution_count": 69,
     "metadata": {},
     "output_type": "execute_result"
    }
   ],
   "source": [
    "df['Population(Million)'].describe(percentiles=[.25,.5,.75])"
   ]
  },
  {
   "cell_type": "markdown",
   "id": "f5ac479c",
   "metadata": {},
   "source": [
    "# Median"
   ]
  },
  {
   "cell_type": "code",
   "execution_count": 72,
   "id": "6f018e0b",
   "metadata": {
    "scrolled": true
   },
   "outputs": [
    {
     "name": "stdout",
     "output_type": "stream",
     "text": [
      "population median = 4.4 million\n",
      "50 Percentile = 4.4 million\n"
     ]
    }
   ],
   "source": [
    "print(f\"population median = {df['Population(Million)'].median()} million\")\n",
    "print(f\"50 Percentile = {np.percentile(df['Population(Million)'], 50)} million\")"
   ]
  },
  {
   "cell_type": "markdown",
   "id": "750bbf12",
   "metadata": {},
   "source": [
    "# Mode"
   ]
  },
  {
   "cell_type": "code",
   "execution_count": 76,
   "id": "1802551b",
   "metadata": {},
   "outputs": [
    {
     "data": {
      "text/plain": [
       "0.7"
      ]
     },
     "execution_count": 76,
     "metadata": {},
     "output_type": "execute_result"
    }
   ],
   "source": [
    "import statistics as ss\n",
    "ss.mode(df['Population(Million)'])"
   ]
  },
  {
   "cell_type": "code",
   "execution_count": 77,
   "id": "1a574bf7",
   "metadata": {},
   "outputs": [
    {
     "data": {
      "text/html": [
       "<div>\n",
       "<style scoped>\n",
       "    .dataframe tbody tr th:only-of-type {\n",
       "        vertical-align: middle;\n",
       "    }\n",
       "\n",
       "    .dataframe tbody tr th {\n",
       "        vertical-align: top;\n",
       "    }\n",
       "\n",
       "    .dataframe thead th {\n",
       "        text-align: right;\n",
       "    }\n",
       "</style>\n",
       "<table border=\"1\" class=\"dataframe\">\n",
       "  <thead>\n",
       "    <tr style=\"text-align: right;\">\n",
       "      <th></th>\n",
       "      <th>State</th>\n",
       "      <th>Population(Million)</th>\n",
       "      <th>Murder.Rate</th>\n",
       "      <th>Abbreviation</th>\n",
       "    </tr>\n",
       "  </thead>\n",
       "  <tbody>\n",
       "    <tr>\n",
       "      <th>1</th>\n",
       "      <td>Alaska</td>\n",
       "      <td>0.7</td>\n",
       "      <td>5.6</td>\n",
       "      <td>AK</td>\n",
       "    </tr>\n",
       "    <tr>\n",
       "      <th>33</th>\n",
       "      <td>North Dakota</td>\n",
       "      <td>0.7</td>\n",
       "      <td>3.0</td>\n",
       "      <td>ND</td>\n",
       "    </tr>\n",
       "  </tbody>\n",
       "</table>\n",
       "</div>"
      ],
      "text/plain": [
       "           State  Population(Million)  Murder.Rate Abbreviation\n",
       "1         Alaska                  0.7          5.6           AK\n",
       "33  North Dakota                  0.7          3.0           ND"
      ]
     },
     "execution_count": 77,
     "metadata": {},
     "output_type": "execute_result"
    }
   ],
   "source": [
    "df[df['Population(Million)']==0.7]"
   ]
  },
  {
   "cell_type": "code",
   "execution_count": 82,
   "id": "a272f7f3",
   "metadata": {},
   "outputs": [
    {
     "data": {
      "text/plain": [
       "count    50.000000\n",
       "mean      4.066000\n",
       "std       1.915736\n",
       "min       0.900000\n",
       "25%       2.425000\n",
       "50%       4.000000\n",
       "75%       5.550000\n",
       "max      10.300000\n",
       "Name: Murder.Rate, dtype: float64"
      ]
     },
     "execution_count": 82,
     "metadata": {},
     "output_type": "execute_result"
    }
   ],
   "source": [
    "df['Murder.Rate'].describe()"
   ]
  },
  {
   "cell_type": "code",
   "execution_count": 81,
   "id": "2ac64748",
   "metadata": {
    "scrolled": true
   },
   "outputs": [
    {
     "data": {
      "text/plain": [
       "<AxesSubplot:xlabel='Murder.Rate', ylabel='Count'>"
      ]
     },
     "execution_count": 81,
     "metadata": {},
     "output_type": "execute_result"
    },
    {
     "data": {
      "image/png": "[encoded data removed]",
      "text/plain": [
       "<Figure size 432x288 with 1 Axes>"
      ]
     },
     "metadata": {
      "needs_background": "light"
     },
     "output_type": "display_data"
    }
   ],
   "source": [
    "sns.histplot(df['Murder.Rate'])"
   ]
  },
  {
   "cell_type": "markdown",
   "id": "f80b370f",
   "metadata": {},
   "source": [
    "# Qurtiles & IQR"
   ]
  },
  {
   "cell_type": "code",
   "execution_count": 86,
   "id": "1cc4b295",
   "metadata": {},
   "outputs": [
    {
     "name": "stdout",
     "output_type": "stream",
     "text": [
      "Q1 = 1.825 million\n",
      "Q3 = 6.65 million\n",
      "IQR = Q3 - Q1\n",
      "IQR = 4.825 million\n"
     ]
    }
   ],
   "source": [
    "print(f\"Q1 = {np.percentile(df['Population(Million)'], 25)} million\")\n",
    "print(f\"Q3 = {np.percentile(df['Population(Million)'], 75)} million\")\n",
    "\n",
    "print(f\"IQR = Q3 - Q1\")\n",
    "print(f\"IQR = {np.percentile(df['Population(Million)']-np.percentile(df['Population(Million)'], 25), 75)} million\")"
   ]
  },
  {
   "cell_type": "markdown",
   "id": "5faf8b1d",
   "metadata": {},
   "source": [
    "# Variance"
   ]
  },
  {
   "cell_type": "code",
   "execution_count": 151,
   "id": "ec463950",
   "metadata": {},
   "outputs": [
    {
     "name": "stdout",
     "output_type": "stream",
     "text": [
      "the normal distributed data is [20.38567224 18.00489592 22.04722785 ... 16.98502483 17.6426978\n",
      " 16.79180057]\n",
      "the total number of data points is 10000\n",
      "\n",
      "mean (miu) and standard deviation (sigma) of the dataset\n",
      "miu = 20.0\n",
      "sigma = 5.0\n",
      "\n",
      "Empirical Rule\n",
      "the data points within (miu - 1*sigma)= 15.0 and (miu + 1*sigma)= 25.0 is 68.6%\n",
      "the data points within (miu - 2*sigma)= 10.0 and (miu + 2*sigma)= 30.0 is 95.4%\n",
      "the data points within (miu - 3*sigma)= 5.0 and (miu + 3*sigma)= 35.0 is 99.7%\n"
     ]
    }
   ],
   "source": [
    "normal_data = np.random.normal(20,5, 10000)\n",
    "print(f\"the normal distributed data is {normal_data}\")\n",
    "print(f\"the total number of data points is {len(normal_data)}\")\n",
    "df = pd.DataFrame()\n",
    "df['normal_data'] = normal_data\n",
    "print(\"\\nmean (miu) and standard deviation (sigma) of the dataset\")\n",
    "miu = np.round(normal_data.mean())\n",
    "sigma = np.round(normal_data.std())\n",
    "print(f\"miu = {miu}\")\n",
    "print(f\"sigma = {sigma}\")\n",
    "print(\"\\nEmpirical Rule\")\n",
    "for i in range(1,4):\n",
    "    a = df[(df.normal_data <miu + i*sigma) & (df.normal_data >miu - i*sigma)].shape[0]/df.shape[0] *100\n",
    "    a =np.round(a,1)\n",
    "    \n",
    "    print(f\"the data points within (miu - {i}*sigma)= {miu - i*sigma} and (miu + {i}*sigma)= {miu + i*sigma} is {a}%\")"
   ]
  },
  {
   "cell_type": "markdown",
   "id": "0c9b26ef",
   "metadata": {},
   "source": [
    "# Empirical rule"
   ]
  },
  {
   "cell_type": "code",
   "execution_count": 88,
   "id": "734a92b5",
   "metadata": {},
   "outputs": [
    {
     "name": "stdout",
     "output_type": "stream",
     "text": [
      "the normal distributed data is [24.72690074 12.72667375 17.46356091 ... 26.72190771 20.89470022\n",
      " 22.23858378]\n",
      "the total number of data points is 10000\n",
      "\n",
      "mean (miu) and standard deviation (sigma) of the dataset\n",
      "miu = 20.0\n",
      "sigma = 5.0\n",
      "\n",
      "Empirical Rule\n",
      "the data points within (miu - 1*sigma)= 15.0 and (miu + 1*sigma)= 25.0 is 68.8%\n"
     ]
    },
    {
     "data": {
      "image/png": "[encoded data removed]",
      "text/plain": [
       "<Figure size 576x288 with 1 Axes>"
      ]
     },
     "metadata": {
      "needs_background": "light"
     },
     "output_type": "display_data"
    },
    {
     "name": "stdout",
     "output_type": "stream",
     "text": [
      "\n",
      "Empirical Rule\n",
      "the data points within (miu - 2*sigma)= 10.0 and (miu + 2*sigma)= 30.0 is 95.6%\n"
     ]
    },
    {
     "data": {
      "image/png": "[encoded data removed]",
      "text/plain": [
       "<Figure size 576x288 with 1 Axes>"
      ]
     },
     "metadata": {
      "needs_background": "light"
     },
     "output_type": "display_data"
    },
    {
     "name": "stdout",
     "output_type": "stream",
     "text": [
      "\n",
      "Empirical Rule\n",
      "the data points within (miu - 3*sigma)= 5.0 and (miu + 3*sigma)= 35.0 is 99.7%\n"
     ]
    },
    {
     "data": {
      "image/png": "[encoded data removed]",
      "text/plain": [
       "<Figure size 576x288 with 1 Axes>"
      ]
     },
     "metadata": {
      "needs_background": "light"
     },
     "output_type": "display_data"
    }
   ],
   "source": [
    "normal_data = np.random.normal(20,5, 10000)\n",
    "print(f\"the normal distributed data is {normal_data}\")\n",
    "print(f\"the total number of data points is {len(normal_data)}\")\n",
    "df = pd.DataFrame()\n",
    "df['normal_data'] = normal_data\n",
    "print(\"\\nmean (miu) and standard deviation (sigma) of the dataset\")\n",
    "miu = np.round(normal_data.mean())\n",
    "sigma = np.round(normal_data.std())\n",
    "print(f\"miu = {miu}\")\n",
    "print(f\"sigma = {sigma}\")\n",
    "\n",
    "for i in range(1,4):\n",
    "    a = df[(df.normal_data <miu + i*sigma) & (df.normal_data >miu - i*sigma)].shape[0]/df.shape[0] *100\n",
    "    a =np.round(a,1)\n",
    "    print(\"\\nEmpirical Rule\")\n",
    "    print(f\"the data points within (miu - {i}*sigma)= {miu - i*sigma} and (miu + {i}*sigma)= {miu + i*sigma} is {a}%\")\n",
    "    plt.figure(figsize=(8,4))\n",
    "    plt.axvline(miu + i*sigma, 0,color='r')\n",
    "    plt.axvline(miu - i*sigma, 0,color='r')\n",
    "    sns.histplot(df.normal_data, kde=True)\n",
    "    plt.show()\n"
   ]
  },
  {
   "cell_type": "markdown",
   "id": "fefc524a",
   "metadata": {},
   "source": [
    "# Z_Score"
   ]
  },
  {
   "cell_type": "code",
   "execution_count": 150,
   "id": "f2e77b6f",
   "metadata": {},
   "outputs": [
    {
     "name": "stdout",
     "output_type": "stream",
     "text": [
      "the normal distributed data is [16.04121343 20.47894844  9.660659   ... 17.23635737 20.5555466\n",
      " 19.8618426 ]\n",
      "the total number of data points is 10000\n",
      "\n",
      "mean (miu) and standard deviation (sigma) of the dataset\n",
      "miu = 20.0\n",
      "sigma = 5.0\n",
      "\n",
      "mean (miu) and standard deviation (sigma) of the Z_scores\n",
      "z_scores miu = -0.0\n",
      "z_score sigma = 1.0\n",
      "\n",
      "Empirical Rule\n",
      "the data points within (miu - 1*sigma)= -1.0 and (miu + 1*sigma)= 1.0 is 67.6%\n",
      "the data points within (miu - 2*sigma)= -2.0 and (miu + 2*sigma)= 2.0 is 95.7%\n",
      "the data points within (miu - 3*sigma)= -3.0 and (miu + 3*sigma)= 3.0 is 99.6%\n"
     ]
    }
   ],
   "source": [
    "normal_data = np.random.normal(20,5, 10000)\n",
    "print(f\"the normal distributed data is {normal_data}\")\n",
    "print(f\"the total number of data points is {len(normal_data)}\")\n",
    "df = pd.DataFrame()\n",
    "df['normal_data'] = normal_data\n",
    "print(\"\\nmean (miu) and standard deviation (sigma) of the dataset\")\n",
    "miu = np.round(normal_data.mean())\n",
    "sigma = np.round(normal_data.std())\n",
    "print(f\"miu = {miu}\")\n",
    "print(f\"sigma = {sigma}\")\n",
    "\n",
    "print(\"\\nmean (miu) and standard deviation (sigma) of the Z_scores\")\n",
    "def z_score(x):\n",
    "    z = (x-miu)/ sigma\n",
    "    return z\n",
    "df['z_score'] = df.normal_data.map(z_score)\n",
    "z_miu = np.round(df.z_score.mean())\n",
    "z_sigma = np.round(df.z_score.std())\n",
    "print(f\"z_scores miu = {z_miu}\")\n",
    "print(f\"z_score sigma = {z_sigma}\")\n",
    "\n",
    "\n",
    "print(\"\\nEmpirical Rule\")\n",
    "for i in range(1,4):\n",
    "    a = df[(df.z_score <z_miu + i*z_sigma) & (df.z_score >z_miu - i*z_sigma)].shape[0]/df.shape[0] *100\n",
    "    a =np.round(a,1)\n",
    "    \n",
    "    print(f\"the data points within (miu - {i}*sigma)= {z_miu - i*z_sigma} and (miu + {i}*sigma)= {z_miu + i*z_sigma} is {a}%\")"
   ]
  },
  {
   "cell_type": "code",
   "execution_count": 149,
   "id": "0596e162",
   "metadata": {},
   "outputs": [
    {
     "name": "stdout",
     "output_type": "stream",
     "text": [
      "the normal distributed data is [12.40069529  8.45682853 14.05622491 ... 16.95638964 22.25872681\n",
      " 24.85425437]\n",
      "the total number of data points is 10000\n",
      "\n",
      "mean (miu) and standard deviation (sigma) of the dataset\n",
      "miu = 20.0\n",
      "sigma = 5.0\n",
      "\n",
      "mean (miu) and standard deviation (sigma) of the Z_scores\n",
      "z_scores miu = 0.0\n",
      "z_score sigma = 1.0\n",
      "\n",
      "Empirical Rule\n",
      "the data points within (miu - 1*sigma)= -1.0 and (miu + 1*sigma)= 1.0 is 68.5%\n"
     ]
    },
    {
     "data": {
      "image/png": "[encoded data removed]",
      "text/plain": [
       "<Figure size 576x288 with 1 Axes>"
      ]
     },
     "metadata": {
      "needs_background": "light"
     },
     "output_type": "display_data"
    },
    {
     "name": "stdout",
     "output_type": "stream",
     "text": [
      "the data points within (miu - 2*sigma)= -2.0 and (miu + 2*sigma)= 2.0 is 95.4%\n"
     ]
    },
    {
     "data": {
      "image/png": "[encoded data removed]",
      "text/plain": [
       "<Figure size 576x288 with 1 Axes>"
      ]
     },
     "metadata": {
      "needs_background": "light"
     },
     "output_type": "display_data"
    },
    {
     "name": "stdout",
     "output_type": "stream",
     "text": [
      "the data points within (miu - 3*sigma)= -3.0 and (miu + 3*sigma)= 3.0 is 99.7%\n"
     ]
    },
    {
     "data": {
      "image/png": "[encoded data removed]",
      "text/plain": [
       "<Figure size 576x288 with 1 Axes>"
      ]
     },
     "metadata": {
      "needs_background": "light"
     },
     "output_type": "display_data"
    }
   ],
   "source": [
    "normal_data = np.random.normal(20,5, 10000)\n",
    "print(f\"the normal distributed data is {normal_data}\")\n",
    "print(f\"the total number of data points is {len(normal_data)}\")\n",
    "df = pd.DataFrame()\n",
    "df['normal_data'] = normal_data\n",
    "print(\"\\nmean (miu) and standard deviation (sigma) of the dataset\")\n",
    "miu = np.round(normal_data.mean())\n",
    "sigma = np.round(normal_data.std())\n",
    "print(f\"miu = {miu}\")\n",
    "print(f\"sigma = {sigma}\")\n",
    "\n",
    "print(\"\\nmean (miu) and standard deviation (sigma) of the Z_scores\")\n",
    "def z_score(x):\n",
    "    z = (x-miu)/ sigma\n",
    "    return z\n",
    "df['z_score'] = df.normal_data.map(z_score)\n",
    "z_miu = np.round(df.z_score.mean())\n",
    "z_sigma = np.round(df.z_score.std())\n",
    "print(f\"z_scores miu = {z_miu}\")\n",
    "print(f\"z_score sigma = {z_sigma}\")\n",
    "\n",
    "\n",
    "print(\"\\nEmpirical Rule\")\n",
    "for i in range(1,4):\n",
    "    a = df[(df.z_score <z_miu + i*z_sigma) & (df.z_score >z_miu - i*z_sigma)].shape[0]/df.shape[0] *100\n",
    "    a =np.round(a,1)\n",
    "    \n",
    "    print(f\"the data points within (miu - {i}*sigma)= {z_miu - i*z_sigma} and (miu + {i}*sigma)= {z_miu + i*z_sigma} is {a}%\")\n",
    "    plt.figure(figsize=(8,4))\n",
    "    plt.axvline(z_miu + i*z_sigma, 0,color='r')\n",
    "    plt.axvline(z_miu - i*z_sigma, 0,color='r')\n",
    "    sns.histplot(df.z_score, kde=True)\n",
    "    plt.show()\n"
   ]
  },
  {
   "cell_type": "markdown",
   "id": "2ad13d67",
   "metadata": {},
   "source": [
    "# comparision between normal distributed data and its z scores"
   ]
  },
  {
   "cell_type": "code",
   "execution_count": 140,
   "id": "d34bce73",
   "metadata": {},
   "outputs": [
    {
     "data": {
      "image/png": "[encoded data removed]",
      "text/plain": [
       "<Figure size 1080x360 with 2 Axes>"
      ]
     },
     "metadata": {
      "needs_background": "light"
     },
     "output_type": "display_data"
    }
   ],
   "source": [
    "fig, axes = plt.subplots(1, 2, figsize=(15, 5), sharey=True)\n",
    "fig.suptitle('histplot of norma distributed data & Zscores of that data')\n",
    "\n",
    "sns.histplot(df.normal_data,ax=axes[0])\n",
    "sns.histplot(df.z_score,ax=axes[1])\n",
    "plt.show()"
   ]
  },
  {
   "cell_type": "code",
   "execution_count": null,
   "id": "d9e97832",
   "metadata": {},
   "outputs": [],
   "source": []
  }
 ],
 "metadata": {
  "kernelspec": {
   "display_name": "Python 3 (ipykernel)",
   "language": "python",
   "name": "python3"
  },
  "language_info": {
   "codemirror_mode": {
    "name": "ipython",
    "version": 3
   },
   "file_extension": ".py",
   "mimetype": "text/x-python",
   "name": "python",
   "nbconvert_exporter": "python",
   "pygments_lexer": "ipython3",
   "version": "3.9.7"
  }
 },
 "nbformat": 4,
 "nbformat_minor": 5
}
